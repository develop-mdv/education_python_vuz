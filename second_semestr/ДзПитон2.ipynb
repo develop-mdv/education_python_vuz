{
  "nbformat": 4,
  "nbformat_minor": 0,
  "metadata": {
    "colab": {
      "provenance": []
    },
    "kernelspec": {
      "name": "python3",
      "display_name": "Python 3"
    },
    "language_info": {
      "name": "python"
    }
  },
  "cells": [
    {
      "cell_type": "markdown",
      "source": [
        "1. Напишите программу, запрашивающую у пользователя его имя. В ответ на ввод на экране должно появиться приветствие с обращением по имени, введенному с клавиатуры ранее."
      ],
      "metadata": {
        "id": "CmckTrGveZDr"
      }
    },
    {
      "cell_type": "code",
      "execution_count": 2,
      "metadata": {
        "colab": {
          "base_uri": "https://localhost:8080/"
        },
        "id": "Iad_kIJDeWGD",
        "outputId": "0ce71da5-c14e-49e5-d538-7cdfd94d0caa"
      },
      "outputs": [
        {
          "output_type": "stream",
          "name": "stdout",
          "text": [
            "AD\n",
            "Привет, AD!\n"
          ]
        }
      ],
      "source": [
        "name = input()\n",
        "print(f'Привет, {name}!')"
      ]
    },
    {
      "cell_type": "markdown",
      "source": [
        "2. Напишите программу, запрашивающую у пользователя число и подсчитывающую сумму натуральных положительных чисел от 1 до введенного пользователем значения. Сумма первых n положительных чисел может быть рассчитана по формуле: sum  = n*(n+1)/2"
      ],
      "metadata": {
        "id": "Q7FRf5_Yez8B"
      }
    },
    {
      "cell_type": "code",
      "source": [
        "n = int(input())\n",
        "print(n*(n+1)//2)"
      ],
      "metadata": {
        "colab": {
          "base_uri": "https://localhost:8080/"
        },
        "id": "SrOFqwPCe_sG",
        "outputId": "9484cf92-7805-4dff-8870-235d3a7c4476"
      },
      "execution_count": 4,
      "outputs": [
        {
          "output_type": "stream",
          "name": "stdout",
          "text": [
            "4\n",
            "10\n"
          ]
        }
      ]
    },
    {
      "cell_type": "markdown",
      "source": [
        "3. Представьте, что вы открыли в банке сберегательный счет под 4 % годовых. Проценты банк рассчитывает в конце года и добавляет к сумме счета. Напишите программу, которая запрашивает у пользователя сумму первоначального депозита, после чего рассчитывает и выводит на экран сумму на счету в конце первого, второго и третьего годов. Все суммы должны быть округлены до двух знаков после запятой."
      ],
      "metadata": {
        "id": "8gYCIjatfaqo"
      }
    },
    {
      "cell_type": "code",
      "source": [
        "first_balance = float(input())\n",
        "first_balance *=1.04\n",
        "print(f'First year: {round(first_balance, 2)}')\n",
        "first_balance *=1.04\n",
        "print(f'Second year: {round(first_balance, 2)}')\n",
        "first_balance *=1.04\n",
        "print(f'Third year: {round(first_balance, 2)}')"
      ],
      "metadata": {
        "colab": {
          "base_uri": "https://localhost:8080/"
        },
        "id": "9ZIfTzvKfdrW",
        "outputId": "4a4034f1-fcb3-459d-8521-2b26498f6bbe"
      },
      "execution_count": 6,
      "outputs": [
        {
          "output_type": "stream",
          "name": "stdout",
          "text": [
            "100\n",
            "First year: 104.0\n",
            "Second year: 108.16\n",
            "Third year: 112.49\n"
          ]
        }
      ]
    },
    {
      "cell_type": "markdown",
      "source": [
        "4. Напишите программу, которая будет запрашивать у пользователя радиус и сохранять его в переменной r. После этого она должна вычислить площадь круга с заданным радиусом и объем шара с тем же радиусом. Используйте в своих вычислениях константу pi из модуля math."
      ],
      "metadata": {
        "id": "zcEErAKSgnF7"
      }
    },
    {
      "cell_type": "code",
      "source": [
        "from math import pi\n",
        "r = float(input())\n",
        "print(f'Circle sqare = {pi*(r**2)}')\n",
        "print(f'Ball valume = {4/3*pi*(r**3)}')"
      ],
      "metadata": {
        "colab": {
          "base_uri": "https://localhost:8080/"
        },
        "id": "HSXAx_Q9goq1",
        "outputId": "51188b5b-da9a-4759-cea4-fc5ba31c161c"
      },
      "execution_count": 8,
      "outputs": [
        {
          "output_type": "stream",
          "name": "stdout",
          "text": [
            "3\n",
            "Circle sqare = 28.274333882308138\n",
            "Ball valume = 113.09733552923254\n"
          ]
        }
      ]
    },
    {
      "cell_type": "markdown",
      "source": [
        "5. Создайте программу, в  которой пользователь будет вводить уровень шума в децибелах. Если введенное им значение будет в точности совпадать с одним из значений в приведенной таблице, необходимо вывести, чему соответствует указанный уровень громкости. Если значение попадет между уровнями в таблице, нужно сообщить, между какими именно. Также программа должна выдавать корректные сообщения, в случае если введенное пользователем значение окажется ниже минимального или больше максимального.\n"
      ],
      "metadata": {
        "id": "XX8OE7XVhf9S"
      }
    },
    {
      "cell_type": "code",
      "source": [
        "noise_level = int(input())\n",
        "if noise_level < 40:\n",
        "  print('Тише, чем в тихой комнате!')\n",
        "elif noise_level == 40:\n",
        "  print('Как в тихой комнате')\n",
        "elif noise_level < 70:\n",
        "  print('Между тихой комнатой и будильником')\n",
        "elif noise_level == 70:\n",
        "  print('Как будильник')\n",
        "elif noise_level < 106:\n",
        "  print('Между будильником и газовой газонокосилкой')\n",
        "elif noise_level == 106:\n",
        "  print('Как газовая газонокосилка')\n",
        "elif noise_level < 130:\n",
        "  print('Между газовой газонокосилкой и отбойным молотком')\n",
        "elif noise_level == 130:\n",
        "  print('как отбойный молоток')\n",
        "elif noise_level > 130:\n",
        "  print('Громче, чем отбойный молоток')"
      ],
      "metadata": {
        "colab": {
          "base_uri": "https://localhost:8080/"
        },
        "id": "jcbIfMVlhjfx",
        "outputId": "76962ced-7703-4482-9824-ee388d7f447b"
      },
      "execution_count": 9,
      "outputs": [
        {
          "output_type": "stream",
          "name": "stdout",
          "text": [
            "50\n",
            "Между тихой комнатой и будильником\n"
          ]
        }
      ]
    },
    {
      "cell_type": "markdown",
      "source": [
        "6. Клетки на шахматной доске идентифицируются буквой и цифрой. Буква определяет положение клетки по горизонтали, а цифра – по вертикали, как показано на рис. 2.1.\n",
        "\n",
        "Ваша программа должна запрашивать у пользователя координаты клетки. Используйте условное выражение для определения того, с какой клетки – белой или черной – начинается столбец. Затем при помощи обычной арифметики необходимо определить цвет конкретной клетки. Например, если пользователь ввел a1, программа должна определить, что клетка с этими координатами черная. Если d5 – белая. Проверку на ошибочность ввода координат клетки выполнять не нужно."
      ],
      "metadata": {
        "id": "VpN5xlDPjTNr"
      }
    },
    {
      "cell_type": "code",
      "source": [
        "a = input()\n",
        "x_help = 'abcdefgh'\n",
        "y = int(a[1])\n",
        "x = x_help.find(a[0])+1\n",
        "if (x+y) % 2:\n",
        "  print(f'Клетка {a} - белая')\n",
        "else:\n",
        "  print(f'Клетка {a} - черная')"
      ],
      "metadata": {
        "colab": {
          "base_uri": "https://localhost:8080/"
        },
        "id": "SE-dP_NOjZIb",
        "outputId": "0c5ed2de-180f-4355-edcb-f89ebcd10302"
      },
      "execution_count": 18,
      "outputs": [
        {
          "output_type": "stream",
          "name": "stdout",
          "text": [
            "a1\n",
            "Клетка a1 - черная\n"
          ]
        }
      ]
    },
    {
      "cell_type": "markdown",
      "source": [
        "7. Приблизительное значение числа π можно вычислить по следующей бесконечной формуле:\n",
        "\n",
        "Напишите программу, выводящую на экран 15 приближений числа π. В первом приближении должно быть использовано только первое слагаемое приведенного бесконечного ряда. Каждое очередное приближение должно учитывать следующее слагаемое, тем самым увеличивая точность расчета.\n",
        "! Реализовать с помощью цикла for\n"
      ],
      "metadata": {
        "id": "VWyTkD78kv72"
      }
    },
    {
      "cell_type": "code",
      "source": [
        "p = 3\n",
        "a = 2\n",
        "b = 3\n",
        "c = 4\n",
        "for i in range(15):\n",
        "  koef = 4/(a*b*c)\n",
        "  p += ((-1)**i)*koef\n",
        "  print(p)\n",
        "  a+=2\n",
        "  b+=2\n",
        "  c+=2"
      ],
      "metadata": {
        "colab": {
          "base_uri": "https://localhost:8080/"
        },
        "id": "BbFz0HE9k1UO",
        "outputId": "4d8242d6-7021-4b92-eb06-715c0a94a4fa"
      },
      "execution_count": 27,
      "outputs": [
        {
          "output_type": "stream",
          "name": "stdout",
          "text": [
            "3.1666666666666665\n",
            "3.1333333333333333\n",
            "3.145238095238095\n",
            "3.1396825396825396\n",
            "3.1427128427128426\n",
            "3.1408813408813407\n",
            "3.142071817071817\n",
            "3.1412548236077646\n",
            "3.141839618929402\n",
            "3.1414067184965018\n",
            "3.1417360992606653\n",
            "3.141479689004255\n",
            "3.1416831892077552\n",
            "3.1415189855952756\n",
            "3.141653394197426\n"
          ]
        }
      ]
    },
    {
      "cell_type": "markdown",
      "source": [
        "8. Представьте, что сумма за пользование услугами такси складывается из базового тарифа в  размере $4,00 плюс $0,25 за каждые 140 м поездки. Напишите функцию, принимающую в качестве единственного параметра расстояние поездки в километрах и возвращающую итоговую сумму оплаты такси. В  основной программе должен демонстрироваться результат вызова функции.\n"
      ],
      "metadata": {
        "id": "HMBtZGKUmQDD"
      }
    },
    {
      "cell_type": "code",
      "source": [
        "def taxi_price(distanse):\n",
        "  return 4+distanse*1000/140*0.25\n",
        "taxi_price(2)\n"
      ],
      "metadata": {
        "colab": {
          "base_uri": "https://localhost:8080/"
        },
        "id": "UU3qJR0rmUAy",
        "outputId": "b26be9d1-a82a-48d5-c895-080ea1e05924"
      },
      "execution_count": 29,
      "outputs": [
        {
          "output_type": "execute_result",
          "data": {
            "text/plain": [
              "7.571428571428571"
            ]
          },
          "metadata": {},
          "execution_count": 29
        }
      ]
    },
    {
      "cell_type": "markdown",
      "source": [
        "9. Магическими называются даты, в  которых произведение дня и  месяца составляет последние две цифры года. Например, 10 июня 1960 года – магическая дата, поскольку\n",
        "10 * 6 = 60. Напишите функцию, определяющую, является ли введенная дата магической. Используйте написанную функцию в  главной программе для отображения всех магических дат в XX веке.\n"
      ],
      "metadata": {
        "id": "u3xSA2_uohtt"
      }
    },
    {
      "cell_type": "code",
      "source": [
        "def is_magic_date(day, month, year):\n",
        "  if day*month == year%100:\n",
        "    return True\n",
        "  else:\n",
        "    return False\n",
        "\n",
        "for year in range(1900, 2000):\n",
        "  for month in range(1, 13):\n",
        "    for day in range(1,31):\n",
        "      if is_magic_date(day, month, year):\n",
        "        print(f'{day}.{month}.{year} is magic date')"
      ],
      "metadata": {
        "colab": {
          "base_uri": "https://localhost:8080/"
        },
        "id": "U3Td1oYMojJu",
        "outputId": "1685ae04-40fb-4307-eca7-d3bf96d41c03"
      },
      "execution_count": 31,
      "outputs": [
        {
          "output_type": "stream",
          "name": "stdout",
          "text": [
            "1.1.1901 is magic date\n",
            "2.1.1902 is magic date\n",
            "1.2.1902 is magic date\n",
            "3.1.1903 is magic date\n",
            "1.3.1903 is magic date\n",
            "4.1.1904 is magic date\n",
            "2.2.1904 is magic date\n",
            "1.4.1904 is magic date\n",
            "5.1.1905 is magic date\n",
            "1.5.1905 is magic date\n",
            "6.1.1906 is magic date\n",
            "3.2.1906 is magic date\n",
            "2.3.1906 is magic date\n",
            "1.6.1906 is magic date\n",
            "7.1.1907 is magic date\n",
            "1.7.1907 is magic date\n",
            "8.1.1908 is magic date\n",
            "4.2.1908 is magic date\n",
            "2.4.1908 is magic date\n",
            "1.8.1908 is magic date\n",
            "9.1.1909 is magic date\n",
            "3.3.1909 is magic date\n",
            "1.9.1909 is magic date\n",
            "10.1.1910 is magic date\n",
            "5.2.1910 is magic date\n",
            "2.5.1910 is magic date\n",
            "1.10.1910 is magic date\n",
            "11.1.1911 is magic date\n",
            "1.11.1911 is magic date\n",
            "12.1.1912 is magic date\n",
            "6.2.1912 is magic date\n",
            "4.3.1912 is magic date\n",
            "3.4.1912 is magic date\n",
            "2.6.1912 is magic date\n",
            "1.12.1912 is magic date\n",
            "13.1.1913 is magic date\n",
            "14.1.1914 is magic date\n",
            "7.2.1914 is magic date\n",
            "2.7.1914 is magic date\n",
            "15.1.1915 is magic date\n",
            "5.3.1915 is magic date\n",
            "3.5.1915 is magic date\n",
            "16.1.1916 is magic date\n",
            "8.2.1916 is magic date\n",
            "4.4.1916 is magic date\n",
            "2.8.1916 is magic date\n",
            "17.1.1917 is magic date\n",
            "18.1.1918 is magic date\n",
            "9.2.1918 is magic date\n",
            "6.3.1918 is magic date\n",
            "3.6.1918 is magic date\n",
            "2.9.1918 is magic date\n",
            "19.1.1919 is magic date\n",
            "20.1.1920 is magic date\n",
            "10.2.1920 is magic date\n",
            "5.4.1920 is magic date\n",
            "4.5.1920 is magic date\n",
            "2.10.1920 is magic date\n",
            "21.1.1921 is magic date\n",
            "7.3.1921 is magic date\n",
            "3.7.1921 is magic date\n",
            "22.1.1922 is magic date\n",
            "11.2.1922 is magic date\n",
            "2.11.1922 is magic date\n",
            "23.1.1923 is magic date\n",
            "24.1.1924 is magic date\n",
            "12.2.1924 is magic date\n",
            "8.3.1924 is magic date\n",
            "6.4.1924 is magic date\n",
            "4.6.1924 is magic date\n",
            "3.8.1924 is magic date\n",
            "2.12.1924 is magic date\n",
            "25.1.1925 is magic date\n",
            "5.5.1925 is magic date\n",
            "26.1.1926 is magic date\n",
            "13.2.1926 is magic date\n",
            "27.1.1927 is magic date\n",
            "9.3.1927 is magic date\n",
            "3.9.1927 is magic date\n",
            "28.1.1928 is magic date\n",
            "14.2.1928 is magic date\n",
            "7.4.1928 is magic date\n",
            "4.7.1928 is magic date\n",
            "29.1.1929 is magic date\n",
            "30.1.1930 is magic date\n",
            "15.2.1930 is magic date\n",
            "10.3.1930 is magic date\n",
            "6.5.1930 is magic date\n",
            "5.6.1930 is magic date\n",
            "3.10.1930 is magic date\n",
            "16.2.1932 is magic date\n",
            "8.4.1932 is magic date\n",
            "4.8.1932 is magic date\n",
            "11.3.1933 is magic date\n",
            "3.11.1933 is magic date\n",
            "17.2.1934 is magic date\n",
            "7.5.1935 is magic date\n",
            "5.7.1935 is magic date\n",
            "18.2.1936 is magic date\n",
            "12.3.1936 is magic date\n",
            "9.4.1936 is magic date\n",
            "6.6.1936 is magic date\n",
            "4.9.1936 is magic date\n",
            "3.12.1936 is magic date\n",
            "19.2.1938 is magic date\n",
            "13.3.1939 is magic date\n",
            "20.2.1940 is magic date\n",
            "10.4.1940 is magic date\n",
            "8.5.1940 is magic date\n",
            "5.8.1940 is magic date\n",
            "4.10.1940 is magic date\n",
            "21.2.1942 is magic date\n",
            "14.3.1942 is magic date\n",
            "7.6.1942 is magic date\n",
            "6.7.1942 is magic date\n",
            "22.2.1944 is magic date\n",
            "11.4.1944 is magic date\n",
            "4.11.1944 is magic date\n",
            "15.3.1945 is magic date\n",
            "9.5.1945 is magic date\n",
            "5.9.1945 is magic date\n",
            "23.2.1946 is magic date\n",
            "24.2.1948 is magic date\n",
            "16.3.1948 is magic date\n",
            "12.4.1948 is magic date\n",
            "8.6.1948 is magic date\n",
            "6.8.1948 is magic date\n",
            "4.12.1948 is magic date\n",
            "7.7.1949 is magic date\n",
            "25.2.1950 is magic date\n",
            "10.5.1950 is magic date\n",
            "5.10.1950 is magic date\n",
            "17.3.1951 is magic date\n",
            "26.2.1952 is magic date\n",
            "13.4.1952 is magic date\n",
            "27.2.1954 is magic date\n",
            "18.3.1954 is magic date\n",
            "9.6.1954 is magic date\n",
            "6.9.1954 is magic date\n",
            "11.5.1955 is magic date\n",
            "5.11.1955 is magic date\n",
            "28.2.1956 is magic date\n",
            "14.4.1956 is magic date\n",
            "8.7.1956 is magic date\n",
            "7.8.1956 is magic date\n",
            "19.3.1957 is magic date\n",
            "29.2.1958 is magic date\n",
            "30.2.1960 is magic date\n",
            "20.3.1960 is magic date\n",
            "15.4.1960 is magic date\n",
            "12.5.1960 is magic date\n",
            "10.6.1960 is magic date\n",
            "6.10.1960 is magic date\n",
            "5.12.1960 is magic date\n",
            "21.3.1963 is magic date\n",
            "9.7.1963 is magic date\n",
            "7.9.1963 is magic date\n",
            "16.4.1964 is magic date\n",
            "8.8.1964 is magic date\n",
            "13.5.1965 is magic date\n",
            "22.3.1966 is magic date\n",
            "11.6.1966 is magic date\n",
            "6.11.1966 is magic date\n",
            "17.4.1968 is magic date\n",
            "23.3.1969 is magic date\n",
            "14.5.1970 is magic date\n",
            "10.7.1970 is magic date\n",
            "7.10.1970 is magic date\n",
            "24.3.1972 is magic date\n",
            "18.4.1972 is magic date\n",
            "12.6.1972 is magic date\n",
            "9.8.1972 is magic date\n",
            "8.9.1972 is magic date\n",
            "6.12.1972 is magic date\n",
            "25.3.1975 is magic date\n",
            "15.5.1975 is magic date\n",
            "19.4.1976 is magic date\n",
            "11.7.1977 is magic date\n",
            "7.11.1977 is magic date\n",
            "26.3.1978 is magic date\n",
            "13.6.1978 is magic date\n",
            "20.4.1980 is magic date\n",
            "16.5.1980 is magic date\n",
            "10.8.1980 is magic date\n",
            "8.10.1980 is magic date\n",
            "27.3.1981 is magic date\n",
            "9.9.1981 is magic date\n",
            "28.3.1984 is magic date\n",
            "21.4.1984 is magic date\n",
            "14.6.1984 is magic date\n",
            "12.7.1984 is magic date\n",
            "7.12.1984 is magic date\n",
            "17.5.1985 is magic date\n",
            "29.3.1987 is magic date\n",
            "22.4.1988 is magic date\n",
            "11.8.1988 is magic date\n",
            "8.11.1988 is magic date\n",
            "30.3.1990 is magic date\n",
            "18.5.1990 is magic date\n",
            "15.6.1990 is magic date\n",
            "10.9.1990 is magic date\n",
            "9.10.1990 is magic date\n",
            "13.7.1991 is magic date\n",
            "23.4.1992 is magic date\n",
            "19.5.1995 is magic date\n",
            "24.4.1996 is magic date\n",
            "16.6.1996 is magic date\n",
            "12.8.1996 is magic date\n",
            "8.12.1996 is magic date\n",
            "14.7.1998 is magic date\n",
            "11.9.1999 is magic date\n",
            "9.11.1999 is magic date\n"
          ]
        }
      ]
    },
    {
      "cell_type": "markdown",
      "source": [
        "10. Решето Эратосфена – алгоритм, изобретенный более 2000 лет назад и служащий для нахождения всех простых чисел от 2 до некоторого целого числа n. Описание этого алгоритма приведено ниже.\n",
        "\n",
        "\n",
        "\n",
        "Мы знаем, что вычеркнутые числа на листочке не являются простыми, но физически они никуда с листа не деваются и должны участвовать в дальнейшем алгоритме. Так что и в компьютерной симуляции не стоит «вычеркивать» элемент путем его удаления из списка – вместо этого лучше будет присвоить ему значение 0. После завершения алгоритма все ненулевые числа в списке и будут простыми. Напишите программу на Python, реализующую указанный выше алгоритм для отображения простых чисел в интервале от двух до значения, введенного пользователем.\n"
      ],
      "metadata": {
        "id": "m4rweXOXqEKp"
      }
    },
    {
      "cell_type": "code",
      "source": [
        "n = int(input())\n",
        "resh = [i for i in range(n+1)]\n",
        "resh[0] = 0\n",
        "resh[1] = 0\n",
        "p = 2\n",
        "flag = True\n",
        "next_p = 0\n",
        "for j in range(n):\n",
        "  for i in range(n+1):\n",
        "    if resh[i] % p == 0:\n",
        "      if resh[i] != p:\n",
        "        resh[i] = 0\n",
        "    elif flag:\n",
        "      next_p = resh[i]\n",
        "      flag = False\n",
        "  p = next_p\n",
        "  flag = True\n",
        "for i in resh:\n",
        "  if i!=0:\n",
        "    print(i)"
      ],
      "metadata": {
        "colab": {
          "base_uri": "https://localhost:8080/"
        },
        "id": "IfvcHhSyqHaD",
        "outputId": "5cb4e2d2-951a-4ffd-ec9a-a66e3a85afa1"
      },
      "execution_count": 39,
      "outputs": [
        {
          "output_type": "stream",
          "name": "stdout",
          "text": [
            "100\n",
            "2\n",
            "3\n",
            "5\n",
            "7\n",
            "11\n",
            "13\n",
            "17\n",
            "19\n",
            "23\n",
            "25\n",
            "29\n",
            "31\n",
            "35\n",
            "37\n",
            "41\n",
            "43\n",
            "47\n",
            "49\n",
            "53\n",
            "55\n",
            "59\n",
            "61\n",
            "65\n",
            "67\n",
            "71\n",
            "73\n",
            "77\n",
            "79\n",
            "83\n",
            "85\n",
            "89\n",
            "91\n",
            "95\n",
            "97\n"
          ]
        }
      ]
    }
  ]
}