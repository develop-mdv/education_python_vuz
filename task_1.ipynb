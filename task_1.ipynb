{
  "metadata": {
    "language_info": {
      "name": ""
    },
    "kernelspec": {
      "name": "",
      "display_name": ""
    }
  },
  "nbformat_minor": 4,
  "nbformat": 4,
  "cells": [
    {
      "cell_type": "markdown",
      "source": "Задана строка. Необходимо посчитать количество символов",
      "metadata": {}
    },
    {
      "cell_type": "code",
      "source": "s = input()\nprint(len(s))",
      "metadata": {},
      "execution_count": null,
      "outputs": []
    },
    {
      "cell_type": "markdown",
      "source": "Измените порядок символов в строке на обратный.",
      "metadata": {}
    },
    {
      "cell_type": "code",
      "source": "s = input()\nprint(s[::-1])",
      "metadata": {},
      "execution_count": null,
      "outputs": []
    },
    {
      "cell_type": "markdown",
      "source": "Найдите подстроку, заключенную в двойных кавычках в строке.",
      "metadata": {}
    },
    {
      "cell_type": "code",
      "source": "s = input()\nprint(s[s.find('\"')+1, s.rfind('\"')])",
      "metadata": {},
      "execution_count": null,
      "outputs": []
    },
    {
      "cell_type": "markdown",
      "source": "\tВ строке записаны два числа, разделенные пробелом. Поменяйте их местами и напечатайте результат.",
      "metadata": {}
    },
    {
      "cell_type": "code",
      "source": "a, b = input().split()\nprint(b, a)",
      "metadata": {},
      "execution_count": null,
      "outputs": []
    },
    {
      "cell_type": "markdown",
      "source": "Из почтового адреса нужно достать логин",
      "metadata": {}
    },
    {
      "cell_type": "code",
      "source": "email = input()\nlogin = email[:email.find('@')]\nprint(login)",
      "metadata": {},
      "execution_count": null,
      "outputs": []
    },
    {
      "cell_type": "markdown",
      "source": "Человек вводит на сайте номер телефона, ему позволено для удобства использовать кроме плюса и цифр знаки ‘-’, ‘)’, ‘(’ и пробелы. Уберите их из ввода.",
      "metadata": {}
    },
    {
      "cell_type": "code",
      "source": "phone = input()\nphone.strip('-()').replace(' ', '')\nprint(phone)",
      "metadata": {},
      "execution_count": null,
      "outputs": []
    },
    {
      "cell_type": "markdown",
      "source": "Вводится строка. Разделитель слов – пробел. Вывести все слова (на отдельных строках).",
      "metadata": {}
    },
    {
      "cell_type": "code",
      "source": "print(*input().split(), sep='\\n')",
      "metadata": {},
      "execution_count": null,
      "outputs": []
    },
    {
      "cell_type": "markdown",
      "source": "Вам дана строка, состоящая только из букв английского алфавита и пробелов. Напишите программу, которая определит, является ли строка палиндромом.",
      "metadata": {}
    },
    {
      "cell_type": "code",
      "source": "s = input()\nif s[:len(s)//2] == s[len(s)//2:]:\n    print('Yes')\nelse:\n    print('No')",
      "metadata": {},
      "execution_count": null,
      "outputs": []
    }
  ]
}
